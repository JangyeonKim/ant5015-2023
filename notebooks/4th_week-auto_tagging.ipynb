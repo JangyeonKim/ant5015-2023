{
  "cells": [
    {
      "cell_type": "markdown",
      "metadata": {
        "id": "view-in-github",
        "colab_type": "text"
      },
      "source": [
        "<a href=\"https://colab.research.google.com/github/jdasam/ant5015-2023/blob/main/notebooks/4th_week-auto_tagging.ipynb\" target=\"_parent\"><img src=\"https://colab.research.google.com/assets/colab-badge.svg\" alt=\"Open In Colab\"/></a>"
      ]
    },
    {
      "cell_type": "markdown",
      "id": "60457791",
      "metadata": {
        "id": "60457791"
      },
      "source": [
        "# Autotagging"
      ]
    },
    {
      "cell_type": "code",
      "execution_count": 48,
      "id": "d5e73fb9",
      "metadata": {
        "id": "d5e73fb9"
      },
      "outputs": [],
      "source": [
        "import torch\n",
        "import torchaudio\n",
        "import IPython.display as ipd\n",
        "from pathlib import Path\n",
        "import pandas as pd\n",
        "import matplotlib.pyplot as plt"
      ]
    },
    {
      "cell_type": "markdown",
      "id": "97164c88",
      "metadata": {
        "id": "97164c88"
      },
      "source": [
        "- Download Small MTAT if you need\n"
      ]
    },
    {
      "cell_type": "code",
      "execution_count": 2,
      "id": "2ea84fda",
      "metadata": {
        "id": "2ea84fda",
        "outputId": "cda675d2-dd5a-4358-de8e-189b20432930",
        "colab": {
          "base_uri": "https://localhost:8080/"
        }
      },
      "outputs": [
        {
          "output_type": "stream",
          "name": "stdout",
          "text": [
            "Looking in indexes: https://pypi.org/simple, https://us-python.pkg.dev/colab-wheels/public/simple/\n",
            "Requirement already satisfied: gdown in /usr/local/lib/python3.9/dist-packages (4.6.6)\n",
            "Collecting gdown\n",
            "  Downloading gdown-4.7.1-py3-none-any.whl (15 kB)\n",
            "Requirement already satisfied: tqdm in /usr/local/lib/python3.9/dist-packages (from gdown) (4.65.0)\n",
            "Requirement already satisfied: beautifulsoup4 in /usr/local/lib/python3.9/dist-packages (from gdown) (4.11.2)\n",
            "Requirement already satisfied: filelock in /usr/local/lib/python3.9/dist-packages (from gdown) (3.10.7)\n",
            "Requirement already satisfied: requests[socks] in /usr/local/lib/python3.9/dist-packages (from gdown) (2.27.1)\n",
            "Requirement already satisfied: six in /usr/local/lib/python3.9/dist-packages (from gdown) (1.16.0)\n",
            "Requirement already satisfied: soupsieve>1.2 in /usr/local/lib/python3.9/dist-packages (from beautifulsoup4->gdown) (2.4)\n",
            "Requirement already satisfied: idna<4,>=2.5 in /usr/local/lib/python3.9/dist-packages (from requests[socks]->gdown) (3.4)\n",
            "Requirement already satisfied: certifi>=2017.4.17 in /usr/local/lib/python3.9/dist-packages (from requests[socks]->gdown) (2022.12.7)\n",
            "Requirement already satisfied: charset-normalizer~=2.0.0 in /usr/local/lib/python3.9/dist-packages (from requests[socks]->gdown) (2.0.12)\n",
            "Requirement already satisfied: urllib3<1.27,>=1.21.1 in /usr/local/lib/python3.9/dist-packages (from requests[socks]->gdown) (1.26.15)\n",
            "Requirement already satisfied: PySocks!=1.5.7,>=1.5.6 in /usr/local/lib/python3.9/dist-packages (from requests[socks]->gdown) (1.7.1)\n",
            "Installing collected packages: gdown\n",
            "  Attempting uninstall: gdown\n",
            "    Found existing installation: gdown 4.6.6\n",
            "    Uninstalling gdown-4.6.6:\n",
            "      Successfully uninstalled gdown-4.6.6\n",
            "Successfully installed gdown-4.7.1\n",
            "Downloading...\n",
            "From (uriginal): https://drive.google.com/uc?id=15e9E3oZdudErkPKwb0rCAiZXkPxdZkV6\n",
            "From (redirected): https://drive.google.com/uc?id=15e9E3oZdudErkPKwb0rCAiZXkPxdZkV6&confirm=t&uuid=a4dc19f3-207f-4dce-b73c-01df40bce39f\n",
            "To: /content/mtat_8000.zip\n",
            "100% 921M/921M [00:04<00:00, 212MB/s]\n"
          ]
        }
      ],
      "source": [
        "!pip install --upgrade gdown\n",
        "!gdown 15e9E3oZdudErkPKwb0rCAiZXkPxdZkV6\n",
        "# !wget https://sogang365-my.sharepoint.com/:u:/g/personal/dasaem_jeong_o365_sogang_ac_kr/EdkHWV-qvxBEi-d0Ua73VG4BEp7EZO7HMvrXsWqeJvMJzg?e=GbYylV&download=1\n",
        "\n",
        "!unzip -q mtat_8000.zip"
      ]
    },
    {
      "cell_type": "code",
      "execution_count": 71,
      "id": "7de7e920",
      "metadata": {
        "id": "7de7e920",
        "outputId": "58e2af69-6400-4345-bb30-a76ec48031cc",
        "colab": {
          "base_uri": "https://localhost:8080/"
        }
      },
      "outputs": [
        {
          "output_type": "execute_result",
          "data": {
            "text/plain": [
              "(tensor([[ 0.0000e+00,  0.0000e+00,  0.0000e+00,  ..., -8.8974e-08,\n",
              "          -5.8156e-08, -5.6856e-08]]),\n",
              " tensor([0, 0, 0, 0, 0, 0, 1, 0, 0, 1, 0, 0, 0, 0, 0, 0, 0, 0, 0, 0, 0, 0, 0, 0,\n",
              "         0, 0, 0, 0, 0, 0, 0, 0, 0, 0, 0, 0, 0, 0, 0, 0, 0, 0, 0, 0, 0, 0, 0, 1,\n",
              "         0]))"
            ]
          },
          "metadata": {},
          "execution_count": 71
        }
      ],
      "source": [
        "class MTATDataset:\n",
        "  def __init__(self, dir_path, split='train', num_max_data=6000, sr=16000):\n",
        "    self.dir = Path(dir_path)\n",
        "    self.labels = pd.read_csv(self.dir / \"meta.csv\", index_col=[0])\n",
        "    self.sr = sr\n",
        "\n",
        "    if split==\"train\":\n",
        "      sub_dir_ids = ['0', '1', '2', '3', '4', '5', '6', '7', '8', '9', 'a', 'b', 'c']\n",
        "    elif split=='valid':\n",
        "      sub_dir_ids = ['d']\n",
        "    else: #test\n",
        "      sub_dir_ids = ['e', 'f', 'g']\n",
        "\n",
        "    is_in_set = [True if x[0] in sub_dir_ids else False for x in self.labels['mp3_path'].values.astype('str')]\n",
        "    self.labels = self.labels.iloc[is_in_set]\n",
        "    self.labels = self.labels[:num_max_data]\n",
        "    self.vocab = self.labels.columns.values[1:-1]\n",
        "    self.label_tensor = self.convert_label_to_tensor()\n",
        "  \n",
        "  def convert_label_to_tensor(self):\n",
        "    return torch.LongTensor(self.labels.values[:, 1:-1].astype('bool'))\n",
        "\n",
        "  def __len__(self):\n",
        "    return len(self.labels)\n",
        "\n",
        "  def __getitem__(self, idx):\n",
        "    info = self.labels.iloc[idx]\n",
        "    mp3_path = self.dir / info['mp3_path']\n",
        "\n",
        "    audio, sr = torchaudio.load(mp3_path)\n",
        "    assert sr == self.sr\n",
        "    label = self.label_tensor[idx]\n",
        "    return audio, label\n",
        "\n",
        "data_dir = Path('MTAT_SMALL')\n",
        "dataset= MTATDataset(data_dir)\n",
        "dataset[0]"
      ]
    },
    {
      "cell_type": "code",
      "source": [
        "dataset.labels"
      ],
      "metadata": {
        "id": "Ii3QvZb9pWae",
        "outputId": "99224dc8-8c72-429b-bbc5-39afef7503f0",
        "colab": {
          "base_uri": "https://localhost:8080/",
          "height": 696
        }
      },
      "id": "Ii3QvZb9pWae",
      "execution_count": 76,
      "outputs": [
        {
          "output_type": "execute_result",
          "data": {
            "text/plain": [
              "       clip_id  singer  harpsichord  sitar  heavy  foreign  no piano  \\\n",
              "20552    45147       0            0      0      0        0         0   \n",
              "3899      8539       0            0      0      0        0         0   \n",
              "8996     19647       0            0      0      0        0         0   \n",
              "4055      8856       0            0      0      0        0         0   \n",
              "6361     13834       0            0      0      0        0         0   \n",
              "...        ...     ...          ...    ...    ...      ...       ...   \n",
              "1704      3704       0            0      1      0        0         0   \n",
              "4704     10328       0            0      0      0        0         0   \n",
              "2612      5718       0            1      0      0        0         0   \n",
              "21389    47024       0            0      0      0        0         0   \n",
              "2372      5190       0            0      0      0        0         0   \n",
              "\n",
              "       classical  female  jazz  ...  rock  dance  cello  techno  flute  beat  \\\n",
              "20552          0       1     0  ...     0      0      0       0      0     0   \n",
              "3899           0       0     0  ...     0      0      0       0      0     0   \n",
              "8996           0       0     0  ...     0      0      0       0      0     0   \n",
              "4055           0       0     0  ...     0      0      0       0      0     0   \n",
              "6361           1       0     0  ...     0      0      0       0      0     0   \n",
              "...          ...     ...   ...  ...   ...    ...    ...     ...    ...   ...   \n",
              "1704           0       0     0  ...     0      0      0       0      0     0   \n",
              "4704           0       0     0  ...     0      0      0       0      0     0   \n",
              "2612           1       0     0  ...     0      0      0       0      0     0   \n",
              "21389          0       0     0  ...     0      0      0       0      0     0   \n",
              "2372           0       0     0  ...     1      0      0       0      0     0   \n",
              "\n",
              "       soft  choir  baroque                                           mp3_path  \n",
              "20552     0      1        0  2/zephyrus-angelus-11-ave_maria__virgo_serena_...  \n",
              "3899      0      0        0     a/tilopa-pictures_of_silence-02-ni-175-204.mp3  \n",
              "8996      0      0        0  5/arthur_yoria-of_the_lovely-04-several_mistak...  \n",
              "4055      0      0        0  8/stargarden-music_for_modern_listening-02-per...  \n",
              "6361      0      0        0  a/dac_crowell-the_mechanism_of_starlight-03-me...  \n",
              "...     ...    ...      ...                                                ...  \n",
              "1704      0      0        0  c/jay_kishor-cd2_the_sowebo_concert-01-raga_ma...  \n",
              "4704      0      0        0  8/tim_rayborn-veils_of_light-02-tabak-175-204.mp3  \n",
              "2612      0      0        0  1/phebe_craig_and_katherine_westine-beside_the...  \n",
              "21389     0      0        0  6/john_williams-dusty_porch-11-talkin_back-88-...  \n",
              "2372      0      0        0  0/william_brooks-bitter_circus-01-the_gift-30-...  \n",
              "\n",
              "[5000 rows x 52 columns]"
            ],
            "text/html": [
              "\n",
              "  <div id=\"df-e77124d5-213d-4908-ab4f-d9d4ba78cdbe\">\n",
              "    <div class=\"colab-df-container\">\n",
              "      <div>\n",
              "<style scoped>\n",
              "    .dataframe tbody tr th:only-of-type {\n",
              "        vertical-align: middle;\n",
              "    }\n",
              "\n",
              "    .dataframe tbody tr th {\n",
              "        vertical-align: top;\n",
              "    }\n",
              "\n",
              "    .dataframe thead th {\n",
              "        text-align: right;\n",
              "    }\n",
              "</style>\n",
              "<table border=\"1\" class=\"dataframe\">\n",
              "  <thead>\n",
              "    <tr style=\"text-align: right;\">\n",
              "      <th></th>\n",
              "      <th>clip_id</th>\n",
              "      <th>singer</th>\n",
              "      <th>harpsichord</th>\n",
              "      <th>sitar</th>\n",
              "      <th>heavy</th>\n",
              "      <th>foreign</th>\n",
              "      <th>no piano</th>\n",
              "      <th>classical</th>\n",
              "      <th>female</th>\n",
              "      <th>jazz</th>\n",
              "      <th>...</th>\n",
              "      <th>rock</th>\n",
              "      <th>dance</th>\n",
              "      <th>cello</th>\n",
              "      <th>techno</th>\n",
              "      <th>flute</th>\n",
              "      <th>beat</th>\n",
              "      <th>soft</th>\n",
              "      <th>choir</th>\n",
              "      <th>baroque</th>\n",
              "      <th>mp3_path</th>\n",
              "    </tr>\n",
              "  </thead>\n",
              "  <tbody>\n",
              "    <tr>\n",
              "      <th>20552</th>\n",
              "      <td>45147</td>\n",
              "      <td>0</td>\n",
              "      <td>0</td>\n",
              "      <td>0</td>\n",
              "      <td>0</td>\n",
              "      <td>0</td>\n",
              "      <td>0</td>\n",
              "      <td>0</td>\n",
              "      <td>1</td>\n",
              "      <td>0</td>\n",
              "      <td>...</td>\n",
              "      <td>0</td>\n",
              "      <td>0</td>\n",
              "      <td>0</td>\n",
              "      <td>0</td>\n",
              "      <td>0</td>\n",
              "      <td>0</td>\n",
              "      <td>0</td>\n",
              "      <td>1</td>\n",
              "      <td>0</td>\n",
              "      <td>2/zephyrus-angelus-11-ave_maria__virgo_serena_...</td>\n",
              "    </tr>\n",
              "    <tr>\n",
              "      <th>3899</th>\n",
              "      <td>8539</td>\n",
              "      <td>0</td>\n",
              "      <td>0</td>\n",
              "      <td>0</td>\n",
              "      <td>0</td>\n",
              "      <td>0</td>\n",
              "      <td>0</td>\n",
              "      <td>0</td>\n",
              "      <td>0</td>\n",
              "      <td>0</td>\n",
              "      <td>...</td>\n",
              "      <td>0</td>\n",
              "      <td>0</td>\n",
              "      <td>0</td>\n",
              "      <td>0</td>\n",
              "      <td>0</td>\n",
              "      <td>0</td>\n",
              "      <td>0</td>\n",
              "      <td>0</td>\n",
              "      <td>0</td>\n",
              "      <td>a/tilopa-pictures_of_silence-02-ni-175-204.mp3</td>\n",
              "    </tr>\n",
              "    <tr>\n",
              "      <th>8996</th>\n",
              "      <td>19647</td>\n",
              "      <td>0</td>\n",
              "      <td>0</td>\n",
              "      <td>0</td>\n",
              "      <td>0</td>\n",
              "      <td>0</td>\n",
              "      <td>0</td>\n",
              "      <td>0</td>\n",
              "      <td>0</td>\n",
              "      <td>0</td>\n",
              "      <td>...</td>\n",
              "      <td>0</td>\n",
              "      <td>0</td>\n",
              "      <td>0</td>\n",
              "      <td>0</td>\n",
              "      <td>0</td>\n",
              "      <td>0</td>\n",
              "      <td>0</td>\n",
              "      <td>0</td>\n",
              "      <td>0</td>\n",
              "      <td>5/arthur_yoria-of_the_lovely-04-several_mistak...</td>\n",
              "    </tr>\n",
              "    <tr>\n",
              "      <th>4055</th>\n",
              "      <td>8856</td>\n",
              "      <td>0</td>\n",
              "      <td>0</td>\n",
              "      <td>0</td>\n",
              "      <td>0</td>\n",
              "      <td>0</td>\n",
              "      <td>0</td>\n",
              "      <td>0</td>\n",
              "      <td>0</td>\n",
              "      <td>0</td>\n",
              "      <td>...</td>\n",
              "      <td>0</td>\n",
              "      <td>0</td>\n",
              "      <td>0</td>\n",
              "      <td>0</td>\n",
              "      <td>0</td>\n",
              "      <td>0</td>\n",
              "      <td>0</td>\n",
              "      <td>0</td>\n",
              "      <td>0</td>\n",
              "      <td>8/stargarden-music_for_modern_listening-02-per...</td>\n",
              "    </tr>\n",
              "    <tr>\n",
              "      <th>6361</th>\n",
              "      <td>13834</td>\n",
              "      <td>0</td>\n",
              "      <td>0</td>\n",
              "      <td>0</td>\n",
              "      <td>0</td>\n",
              "      <td>0</td>\n",
              "      <td>0</td>\n",
              "      <td>1</td>\n",
              "      <td>0</td>\n",
              "      <td>0</td>\n",
              "      <td>...</td>\n",
              "      <td>0</td>\n",
              "      <td>0</td>\n",
              "      <td>0</td>\n",
              "      <td>0</td>\n",
              "      <td>0</td>\n",
              "      <td>0</td>\n",
              "      <td>0</td>\n",
              "      <td>0</td>\n",
              "      <td>0</td>\n",
              "      <td>a/dac_crowell-the_mechanism_of_starlight-03-me...</td>\n",
              "    </tr>\n",
              "    <tr>\n",
              "      <th>...</th>\n",
              "      <td>...</td>\n",
              "      <td>...</td>\n",
              "      <td>...</td>\n",
              "      <td>...</td>\n",
              "      <td>...</td>\n",
              "      <td>...</td>\n",
              "      <td>...</td>\n",
              "      <td>...</td>\n",
              "      <td>...</td>\n",
              "      <td>...</td>\n",
              "      <td>...</td>\n",
              "      <td>...</td>\n",
              "      <td>...</td>\n",
              "      <td>...</td>\n",
              "      <td>...</td>\n",
              "      <td>...</td>\n",
              "      <td>...</td>\n",
              "      <td>...</td>\n",
              "      <td>...</td>\n",
              "      <td>...</td>\n",
              "      <td>...</td>\n",
              "    </tr>\n",
              "    <tr>\n",
              "      <th>1704</th>\n",
              "      <td>3704</td>\n",
              "      <td>0</td>\n",
              "      <td>0</td>\n",
              "      <td>1</td>\n",
              "      <td>0</td>\n",
              "      <td>0</td>\n",
              "      <td>0</td>\n",
              "      <td>0</td>\n",
              "      <td>0</td>\n",
              "      <td>0</td>\n",
              "      <td>...</td>\n",
              "      <td>0</td>\n",
              "      <td>0</td>\n",
              "      <td>0</td>\n",
              "      <td>0</td>\n",
              "      <td>0</td>\n",
              "      <td>0</td>\n",
              "      <td>0</td>\n",
              "      <td>0</td>\n",
              "      <td>0</td>\n",
              "      <td>c/jay_kishor-cd2_the_sowebo_concert-01-raga_ma...</td>\n",
              "    </tr>\n",
              "    <tr>\n",
              "      <th>4704</th>\n",
              "      <td>10328</td>\n",
              "      <td>0</td>\n",
              "      <td>0</td>\n",
              "      <td>0</td>\n",
              "      <td>0</td>\n",
              "      <td>0</td>\n",
              "      <td>0</td>\n",
              "      <td>0</td>\n",
              "      <td>0</td>\n",
              "      <td>0</td>\n",
              "      <td>...</td>\n",
              "      <td>0</td>\n",
              "      <td>0</td>\n",
              "      <td>0</td>\n",
              "      <td>0</td>\n",
              "      <td>0</td>\n",
              "      <td>0</td>\n",
              "      <td>0</td>\n",
              "      <td>0</td>\n",
              "      <td>0</td>\n",
              "      <td>8/tim_rayborn-veils_of_light-02-tabak-175-204.mp3</td>\n",
              "    </tr>\n",
              "    <tr>\n",
              "      <th>2612</th>\n",
              "      <td>5718</td>\n",
              "      <td>0</td>\n",
              "      <td>1</td>\n",
              "      <td>0</td>\n",
              "      <td>0</td>\n",
              "      <td>0</td>\n",
              "      <td>0</td>\n",
              "      <td>1</td>\n",
              "      <td>0</td>\n",
              "      <td>0</td>\n",
              "      <td>...</td>\n",
              "      <td>0</td>\n",
              "      <td>0</td>\n",
              "      <td>0</td>\n",
              "      <td>0</td>\n",
              "      <td>0</td>\n",
              "      <td>0</td>\n",
              "      <td>0</td>\n",
              "      <td>0</td>\n",
              "      <td>0</td>\n",
              "      <td>1/phebe_craig_and_katherine_westine-beside_the...</td>\n",
              "    </tr>\n",
              "    <tr>\n",
              "      <th>21389</th>\n",
              "      <td>47024</td>\n",
              "      <td>0</td>\n",
              "      <td>0</td>\n",
              "      <td>0</td>\n",
              "      <td>0</td>\n",
              "      <td>0</td>\n",
              "      <td>0</td>\n",
              "      <td>0</td>\n",
              "      <td>0</td>\n",
              "      <td>0</td>\n",
              "      <td>...</td>\n",
              "      <td>0</td>\n",
              "      <td>0</td>\n",
              "      <td>0</td>\n",
              "      <td>0</td>\n",
              "      <td>0</td>\n",
              "      <td>0</td>\n",
              "      <td>0</td>\n",
              "      <td>0</td>\n",
              "      <td>0</td>\n",
              "      <td>6/john_williams-dusty_porch-11-talkin_back-88-...</td>\n",
              "    </tr>\n",
              "    <tr>\n",
              "      <th>2372</th>\n",
              "      <td>5190</td>\n",
              "      <td>0</td>\n",
              "      <td>0</td>\n",
              "      <td>0</td>\n",
              "      <td>0</td>\n",
              "      <td>0</td>\n",
              "      <td>0</td>\n",
              "      <td>0</td>\n",
              "      <td>0</td>\n",
              "      <td>0</td>\n",
              "      <td>...</td>\n",
              "      <td>1</td>\n",
              "      <td>0</td>\n",
              "      <td>0</td>\n",
              "      <td>0</td>\n",
              "      <td>0</td>\n",
              "      <td>0</td>\n",
              "      <td>0</td>\n",
              "      <td>0</td>\n",
              "      <td>0</td>\n",
              "      <td>0/william_brooks-bitter_circus-01-the_gift-30-...</td>\n",
              "    </tr>\n",
              "  </tbody>\n",
              "</table>\n",
              "<p>5000 rows × 52 columns</p>\n",
              "</div>\n",
              "      <button class=\"colab-df-convert\" onclick=\"convertToInteractive('df-e77124d5-213d-4908-ab4f-d9d4ba78cdbe')\"\n",
              "              title=\"Convert this dataframe to an interactive table.\"\n",
              "              style=\"display:none;\">\n",
              "        \n",
              "  <svg xmlns=\"http://www.w3.org/2000/svg\" height=\"24px\"viewBox=\"0 0 24 24\"\n",
              "       width=\"24px\">\n",
              "    <path d=\"M0 0h24v24H0V0z\" fill=\"none\"/>\n",
              "    <path d=\"M18.56 5.44l.94 2.06.94-2.06 2.06-.94-2.06-.94-.94-2.06-.94 2.06-2.06.94zm-11 1L8.5 8.5l.94-2.06 2.06-.94-2.06-.94L8.5 2.5l-.94 2.06-2.06.94zm10 10l.94 2.06.94-2.06 2.06-.94-2.06-.94-.94-2.06-.94 2.06-2.06.94z\"/><path d=\"M17.41 7.96l-1.37-1.37c-.4-.4-.92-.59-1.43-.59-.52 0-1.04.2-1.43.59L10.3 9.45l-7.72 7.72c-.78.78-.78 2.05 0 2.83L4 21.41c.39.39.9.59 1.41.59.51 0 1.02-.2 1.41-.59l7.78-7.78 2.81-2.81c.8-.78.8-2.07 0-2.86zM5.41 20L4 18.59l7.72-7.72 1.47 1.35L5.41 20z\"/>\n",
              "  </svg>\n",
              "      </button>\n",
              "      \n",
              "  <style>\n",
              "    .colab-df-container {\n",
              "      display:flex;\n",
              "      flex-wrap:wrap;\n",
              "      gap: 12px;\n",
              "    }\n",
              "\n",
              "    .colab-df-convert {\n",
              "      background-color: #E8F0FE;\n",
              "      border: none;\n",
              "      border-radius: 50%;\n",
              "      cursor: pointer;\n",
              "      display: none;\n",
              "      fill: #1967D2;\n",
              "      height: 32px;\n",
              "      padding: 0 0 0 0;\n",
              "      width: 32px;\n",
              "    }\n",
              "\n",
              "    .colab-df-convert:hover {\n",
              "      background-color: #E2EBFA;\n",
              "      box-shadow: 0px 1px 2px rgba(60, 64, 67, 0.3), 0px 1px 3px 1px rgba(60, 64, 67, 0.15);\n",
              "      fill: #174EA6;\n",
              "    }\n",
              "\n",
              "    [theme=dark] .colab-df-convert {\n",
              "      background-color: #3B4455;\n",
              "      fill: #D2E3FC;\n",
              "    }\n",
              "\n",
              "    [theme=dark] .colab-df-convert:hover {\n",
              "      background-color: #434B5C;\n",
              "      box-shadow: 0px 1px 3px 1px rgba(0, 0, 0, 0.15);\n",
              "      filter: drop-shadow(0px 1px 2px rgba(0, 0, 0, 0.3));\n",
              "      fill: #FFFFFF;\n",
              "    }\n",
              "  </style>\n",
              "\n",
              "      <script>\n",
              "        const buttonEl =\n",
              "          document.querySelector('#df-e77124d5-213d-4908-ab4f-d9d4ba78cdbe button.colab-df-convert');\n",
              "        buttonEl.style.display =\n",
              "          google.colab.kernel.accessAllowed ? 'block' : 'none';\n",
              "\n",
              "        async function convertToInteractive(key) {\n",
              "          const element = document.querySelector('#df-e77124d5-213d-4908-ab4f-d9d4ba78cdbe');\n",
              "          const dataTable =\n",
              "            await google.colab.kernel.invokeFunction('convertToInteractive',\n",
              "                                                     [key], {});\n",
              "          if (!dataTable) return;\n",
              "\n",
              "          const docLinkHtml = 'Like what you see? Visit the ' +\n",
              "            '<a target=\"_blank\" href=https://colab.research.google.com/notebooks/data_table.ipynb>data table notebook</a>'\n",
              "            + ' to learn more about interactive tables.';\n",
              "          element.innerHTML = '';\n",
              "          dataTable['output_type'] = 'display_data';\n",
              "          await google.colab.output.renderOutput(dataTable, element);\n",
              "          const docLink = document.createElement('div');\n",
              "          docLink.innerHTML = docLinkHtml;\n",
              "          element.appendChild(docLink);\n",
              "        }\n",
              "      </script>\n",
              "    </div>\n",
              "  </div>\n",
              "  "
            ]
          },
          "metadata": {},
          "execution_count": 76
        }
      ]
    },
    {
      "cell_type": "code",
      "source": [
        "csv_path = data_dir / \"meta.csv\"\n",
        "df = pd.read_csv(csv_path)\n",
        "len(df)\n",
        "sub_dir_ids = ['0', '1', '2', '3', '4', '5', '6', '7', '8', '9', 'a', 'b', 'c']\n",
        "\n",
        "is_in_set = [True if x[0] in sub_dir_ids else False for x in df['mp3_path'].values.astype('str')]\n"
      ],
      "metadata": {
        "id": "F_jzPw8rhF0j"
      },
      "id": "F_jzPw8rhF0j",
      "execution_count": 10,
      "outputs": []
    },
    {
      "cell_type": "code",
      "source": [],
      "metadata": {
        "id": "tFh0ZgcWm3Ri"
      },
      "id": "tFh0ZgcWm3Ri",
      "execution_count": null,
      "outputs": []
    },
    {
      "cell_type": "code",
      "source": [
        "torch.ones(10, dtype=torch.float) * torch.ones(10, dtype=torch.bool)"
      ],
      "metadata": {
        "id": "4FsSf0FPmWio",
        "outputId": "8f5d531e-0f3f-4af0-84f1-dfa4b751081f",
        "colab": {
          "base_uri": "https://localhost:8080/"
        }
      },
      "id": "4FsSf0FPmWio",
      "execution_count": 64,
      "outputs": [
        {
          "output_type": "execute_result",
          "data": {
            "text/plain": [
              "tensor([1., 1., 1., 1., 1., 1., 1., 1., 1., 1.])"
            ]
          },
          "metadata": {},
          "execution_count": 64
        }
      ]
    },
    {
      "cell_type": "code",
      "source": [
        "label_tensor = torch.tensor(df.values[:, 2:-1].astype(bool), dtype=torch.long)\n",
        "label_tensor[2]"
      ],
      "metadata": {
        "id": "jhNTtzQJl8KF",
        "outputId": "82393924-3e00-4fe0-905d-075e87c9e934",
        "colab": {
          "base_uri": "https://localhost:8080/"
        }
      },
      "id": "jhNTtzQJl8KF",
      "execution_count": 66,
      "outputs": [
        {
          "output_type": "execute_result",
          "data": {
            "text/plain": [
              "tensor([0, 0, 0, 0, 0, 0, 0, 0, 0, 1, 0, 0, 0, 0, 0, 0, 0, 0, 0, 0, 0, 0, 0, 0,\n",
              "        0, 0, 0, 0, 0, 0, 0, 0, 0, 0, 0, 0, 0, 1, 1, 0, 0, 0, 0, 0, 0, 0, 0, 0,\n",
              "        0, 0])"
            ]
          },
          "metadata": {},
          "execution_count": 66
        }
      ]
    },
    {
      "cell_type": "code",
      "source": [
        "mp3_path = data_dir / df.iloc[2]['mp3_path']\n",
        "y, sr = torchaudio.load(mp3_path)"
      ],
      "metadata": {
        "id": "iH362XFniMvg"
      },
      "id": "iH362XFniMvg",
      "execution_count": 35,
      "outputs": []
    },
    {
      "cell_type": "code",
      "source": [
        "ipd.Audio(y, rate=sr, normalize=False)"
      ],
      "metadata": {
        "id": "bldHWF6bkz0o"
      },
      "id": "bldHWF6bkz0o",
      "execution_count": null,
      "outputs": []
    },
    {
      "cell_type": "code",
      "source": [],
      "metadata": {
        "id": "gjaLKdFsl63e"
      },
      "id": "gjaLKdFsl63e",
      "execution_count": null,
      "outputs": []
    },
    {
      "cell_type": "code",
      "source": [
        "torchaudio.save('test.wav', y*10, sample_rate=sr)"
      ],
      "metadata": {
        "id": "-zy6iIFXk7VM"
      },
      "id": "-zy6iIFXk7VM",
      "execution_count": 44,
      "outputs": []
    },
    {
      "cell_type": "code",
      "source": [
        "y_clipped, sr = torchaudio.load('test.wav')"
      ],
      "metadata": {
        "id": "6lvJCIHWlNDr"
      },
      "id": "6lvJCIHWlNDr",
      "execution_count": 46,
      "outputs": []
    },
    {
      "cell_type": "code",
      "source": [
        "plt.plot(y_clipped[0, 1000:10000])\n",
        "plt.plot(y[0, 1000:10000])"
      ],
      "metadata": {
        "id": "24YgdCwKladH",
        "outputId": "eba544bd-c748-44c3-cb6d-14d126a0bc24",
        "colab": {
          "base_uri": "https://localhost:8080/",
          "height": 448
        }
      },
      "id": "24YgdCwKladH",
      "execution_count": 50,
      "outputs": [
        {
          "output_type": "execute_result",
          "data": {
            "text/plain": [
              "[<matplotlib.lines.Line2D at 0x7fcc31a776d0>]"
            ]
          },
          "metadata": {},
          "execution_count": 50
        },
        {
          "output_type": "display_data",
          "data": {
            "text/plain": [
              "<Figure size 640x480 with 1 Axes>"
            ],
            "image/png": "[encoded data removed]"
          },
          "metadata": {}
        }
      ]
    },
    {
      "cell_type": "code",
      "source": [
        "pwd"
      ],
      "metadata": {
        "id": "I6QzknBTkrxb",
        "outputId": "3a58a98c-d8f2-489a-8205-995a4fa9a09e",
        "colab": {
          "base_uri": "https://localhost:8080/",
          "height": 36
        }
      },
      "id": "I6QzknBTkrxb",
      "execution_count": 34,
      "outputs": [
        {
          "output_type": "execute_result",
          "data": {
            "text/plain": [
              "'/content'"
            ],
            "application/vnd.google.colaboratory.intrinsic+json": {
              "type": "string"
            }
          },
          "metadata": {},
          "execution_count": 34
        }
      ]
    },
    {
      "cell_type": "markdown",
      "id": "c4074a82",
      "metadata": {
        "id": "c4074a82"
      },
      "source": [
        "## Make Dataset"
      ]
    },
    {
      "cell_type": "code",
      "source": [
        "data_loader = torch.utils.data.DataLoader(dataset, batch_size=16, shuffle=True)\n",
        "\n",
        "batch = next(iter(data_loader))\n"
      ],
      "metadata": {
        "id": "y8jyyhabnwxL"
      },
      "id": "y8jyyhabnwxL",
      "execution_count": 72,
      "outputs": []
    },
    {
      "cell_type": "code",
      "source": [
        "audio, label = batch\n",
        "audio.shape, label.shape"
      ],
      "metadata": {
        "id": "9PLcDpFcn7nv",
        "outputId": "57b87051-97fe-4ca6-d2f8-66aa7dc469d2",
        "colab": {
          "base_uri": "https://localhost:8080/"
        }
      },
      "id": "9PLcDpFcn7nv",
      "execution_count": 74,
      "outputs": [
        {
          "output_type": "execute_result",
          "data": {
            "text/plain": [
              "(torch.Size([16, 1, 465984]), torch.Size([16, 49]))"
            ]
          },
          "metadata": {},
          "execution_count": 74
        }
      ]
    },
    {
      "cell_type": "markdown",
      "id": "56f48eb7",
      "metadata": {
        "id": "56f48eb7"
      },
      "source": [
        "## Make Model"
      ]
    },
    {
      "cell_type": "markdown",
      "id": "9ee479ca",
      "metadata": {
        "id": "9ee479ca"
      },
      "source": [
        "## Train!"
      ]
    },
    {
      "cell_type": "markdown",
      "id": "757931ed",
      "metadata": {
        "id": "757931ed"
      },
      "source": [
        "## Data Normalization"
      ]
    },
    {
      "cell_type": "markdown",
      "id": "5a9ddf1e",
      "metadata": {
        "id": "5a9ddf1e"
      },
      "source": [
        "## How CNN works"
      ]
    },
    {
      "cell_type": "code",
      "execution_count": null,
      "id": "89a35597",
      "metadata": {
        "id": "89a35597",
        "outputId": "d61731fc-1deb-48d4-a145-b2abd3d4766e"
      },
      "outputs": [
        {
          "data": {
            "text/plain": [
              "(tensor([[[[ 2.,  3.,  0., -2., -2.,  1., -2.],\n",
              "           [-3., -3.,  1.,  2., -3.,  1.,  3.],\n",
              "           [-2.,  1.,  0., -3.,  0., -1., -2.],\n",
              "           [ 0., -3., -3., -2., -2., -3.,  1.],\n",
              "           [ 2.,  3.,  2.,  3.,  3., -2., -2.],\n",
              "           [ 1., -2., -1., -3., -1., -1.,  0.]],\n",
              " \n",
              "          [[ 0.,  0.,  3.,  3., -3., -3.,  0.],\n",
              "           [-2.,  0.,  2.,  3.,  2., -3., -3.],\n",
              "           [-1.,  1.,  0., -2.,  3.,  1.,  3.],\n",
              "           [ 1.,  3.,  0.,  0.,  2.,  3.,  3.],\n",
              "           [-3.,  2., -3., -3.,  3., -1.,  2.],\n",
              "           [-3.,  0.,  1., -1.,  1.,  3.,  0.]]]]),\n",
              " torch.Size([1, 2, 6, 7]))"
            ]
          },
          "execution_count": 12,
          "metadata": {},
          "output_type": "execute_result"
        }
      ],
      "source": [
        "dummy = torch.randint(-3, 4, (2, 6,7)).float()\n",
        "dummy = dummy.unsqueeze(0)\n",
        "dummy, dummy.shape"
      ]
    },
    {
      "cell_type": "code",
      "execution_count": null,
      "id": "d2bb41cb",
      "metadata": {
        "id": "d2bb41cb",
        "outputId": "0ef9d498-8d78-4d10-ccfb-88f4256d6741"
      },
      "outputs": [
        {
          "data": {
            "text/plain": [
              "Parameter containing:\n",
              "tensor([[[[ 0.0329,  0.0913, -0.0989],\n",
              "          [-0.1222, -0.0248,  0.1674],\n",
              "          [ 0.0012,  0.0244, -0.2151]],\n",
              "\n",
              "         [[-0.1140,  0.2020,  0.1060],\n",
              "          [ 0.0658, -0.0340, -0.0514],\n",
              "          [-0.0025, -0.1469,  0.1981]]]], requires_grad=True)"
            ]
          },
          "execution_count": 13,
          "metadata": {},
          "output_type": "execute_result"
        }
      ],
      "source": [
        "import torch.nn as nn\n",
        "conv_layer = nn.Conv2d(in_channels=2, out_channels=1, kernel_size=3, bias=False)\n",
        "conv_layer.weight"
      ]
    },
    {
      "cell_type": "code",
      "execution_count": null,
      "id": "0e4a71f8",
      "metadata": {
        "id": "0e4a71f8",
        "outputId": "dbb1465f-83f5-4843-e9f4-98f508fad2b8"
      },
      "outputs": [
        {
          "data": {
            "text/plain": [
              "Parameter containing:\n",
              "tensor([[[[ 1.,  1., -1.],\n",
              "          [ 0., -1., -1.],\n",
              "          [ 0.,  1.,  0.]],\n",
              "\n",
              "         [[ 1.,  0.,  0.],\n",
              "          [-1.,  0.,  1.],\n",
              "          [ 1.,  1.,  0.]]]], requires_grad=True)"
            ]
          },
          "execution_count": 15,
          "metadata": {},
          "output_type": "execute_result"
        }
      ],
      "source": [
        "conv_layer.weight.shape # out_channels, in_channels, height, width\n",
        "conv_layer.weight.data = torch.randint(-1, 2, (1,2,3,3)).float()\n",
        "conv_layer.weight"
      ]
    },
    {
      "cell_type": "code",
      "execution_count": null,
      "id": "82d024aa",
      "metadata": {
        "id": "82d024aa",
        "outputId": "3a4dd0e1-c5e9-4036-f669-4d162b54d87d"
      },
      "outputs": [
        {
          "data": {
            "text/plain": [
              "(tensor([[[[ 2.,  3.,  0., -2., -2.,  1., -2.],\n",
              "           [-3., -3.,  1.,  2., -3.,  1.,  3.],\n",
              "           [-2.,  1.,  0., -3.,  0., -1., -2.],\n",
              "           [ 0., -3., -3., -2., -2., -3.,  1.],\n",
              "           [ 2.,  3.,  2.,  3.,  3., -2., -2.],\n",
              "           [ 1., -2., -1., -3., -1., -1.,  0.]],\n",
              " \n",
              "          [[ 0.,  0.,  3.,  3., -3., -3.,  0.],\n",
              "           [-2.,  0.,  2.,  3.,  2., -3., -3.],\n",
              "           [-1.,  1.,  0., -2.,  3.,  1.,  3.],\n",
              "           [ 1.,  3.,  0.,  0.,  2.,  3.,  3.],\n",
              "           [-3.,  2., -3., -3.,  3., -1.,  2.],\n",
              "           [-3.,  0.,  1., -1.,  1.,  3.,  0.]]]]),\n",
              " Parameter containing:\n",
              " tensor([[[[ 1.,  1., -1.],\n",
              "           [ 0., -1., -1.],\n",
              "           [ 0.,  1.,  0.]],\n",
              " \n",
              "          [[ 1.,  0.,  0.],\n",
              "           [-1.,  0.,  1.],\n",
              "           [ 1.,  1.,  0.]]]], requires_grad=True),\n",
              " tensor([[[[ 12.,   6.,  -1.,  -5.,  -8.],\n",
              "           [ -8.,  -4.,  12.,   5.,   2.],\n",
              "           [  5.,   8.,   0.,   7.,   7.],\n",
              "           [ -9., -11.,  -6.,  -1.,   2.]]]], grad_fn=<ThnnConv2DBackward0>))"
            ]
          },
          "execution_count": 18,
          "metadata": {},
          "output_type": "execute_result"
        }
      ],
      "source": [
        "'''\n",
        "2D Conv Layer의 입력은 3차원\n",
        "\n",
        "'''\n",
        "dummy, conv_layer.weight, conv_layer(dummy)"
      ]
    },
    {
      "cell_type": "code",
      "execution_count": null,
      "id": "0e11f410",
      "metadata": {
        "id": "0e11f410",
        "outputId": "ef8f08a9-bc19-44d1-87f5-6e7cbdd78c97"
      },
      "outputs": [
        {
          "data": {
            "text/plain": [
              "tensor([[[0.]]], grad_fn=<SqueezeBackward1>)"
            ]
          },
          "execution_count": 26,
          "metadata": {},
          "output_type": "execute_result"
        }
      ],
      "source": [
        "conv_layer(dummy[:, 0:3, 1:4])"
      ]
    },
    {
      "cell_type": "code",
      "execution_count": null,
      "id": "5aa081d2",
      "metadata": {
        "id": "5aa081d2"
      },
      "outputs": [],
      "source": []
    },
    {
      "cell_type": "code",
      "execution_count": null,
      "id": "1c4af578",
      "metadata": {
        "id": "1c4af578",
        "outputId": "7fb51e9d-9d8f-4525-e5ff-89a7d08668fc"
      },
      "outputs": [
        {
          "data": {
            "text/plain": [
              "tensor([[ 2., -3.,  0., -3.,  0.,  2.,  2., -1.,  3.,  1.],\n",
              "        [-2., -1.,  3., -3.,  2.,  0.,  0.,  2.,  3., -3.],\n",
              "        [ 1., -2., -3.,  0.,  1.,  3., -3.,  1.,  3., -2.],\n",
              "        [-1., -2., -2., -3.,  0., -3., -3., -1.,  1.,  3.]])"
            ]
          },
          "execution_count": 41,
          "metadata": {},
          "output_type": "execute_result"
        }
      ],
      "source": [
        "num_ch = 4\n",
        "dummy = torch.randint(-3, 4, (num_ch, 10)).float()\n",
        "dummy"
      ]
    },
    {
      "cell_type": "code",
      "execution_count": null,
      "id": "d7608bd2",
      "metadata": {
        "id": "d7608bd2",
        "outputId": "60016c62-1610-44b6-d6d3-285de98067c3"
      },
      "outputs": [
        {
          "data": {
            "text/plain": [
              "Parameter containing:\n",
              "tensor([[[-1.,  1., -1.],\n",
              "         [ 0.,  0., -1.],\n",
              "         [ 1.,  0.,  1.],\n",
              "         [ 0.,  0.,  0.]],\n",
              "\n",
              "        [[-1.,  1., -1.],\n",
              "         [-1.,  1., -1.],\n",
              "         [ 0.,  1.,  0.],\n",
              "         [ 1., -1.,  1.]],\n",
              "\n",
              "        [[ 1., -1., -1.],\n",
              "         [ 1.,  1.,  1.],\n",
              "         [-1.,  1., -1.],\n",
              "         [ 0.,  1.,  1.]],\n",
              "\n",
              "        [[-1.,  1.,  1.],\n",
              "         [-1., -1., -1.],\n",
              "         [-1., -1., -1.],\n",
              "         [ 1.,  1.,  1.]],\n",
              "\n",
              "        [[ 1.,  1.,  1.],\n",
              "         [-1.,  0.,  0.],\n",
              "         [ 0.,  1.,  1.],\n",
              "         [ 1., -1.,  1.]],\n",
              "\n",
              "        [[ 0.,  1., -1.],\n",
              "         [ 0.,  0., -1.],\n",
              "         [ 0.,  0., -1.],\n",
              "         [-1., -1.,  1.]]], requires_grad=True)"
            ]
          },
          "execution_count": 46,
          "metadata": {},
          "output_type": "execute_result"
        }
      ],
      "source": [
        "out_ch = 6\n",
        "conv1d = nn.Conv1d(num_ch, out_ch, kernel_size=3, bias=False)\n",
        "conv1d.weight.data = torch.randint(-1, 2, conv1d.weight.shape).float()\n",
        "conv1d.weight"
      ]
    },
    {
      "cell_type": "code",
      "execution_count": null,
      "id": "67288206",
      "metadata": {
        "id": "67288206",
        "outputId": "3ec75d85-2aa7-4eb3-b0e3-529ddb9f3c0f"
      },
      "outputs": [
        {
          "data": {
            "text/plain": [
              "(tensor([[-10.,   7.,  -7.,   4.,  -2.,   3.,  -9.,   5.],\n",
              "         [-10.,   7., -10.,   1.,   1.,  -5.,  -7.,  11.],\n",
              "         [  1.,  -7.,   4., -11.,  -3.,  -8.,   6.,   5.],\n",
              "         [ -6.,  -1.,  -8.,  -4.,  -5., -11.,  -9.,   4.],\n",
              "         [ -5., -11.,  -4.,   0.,   2.,   0.,   7.,   3.],\n",
              "         [ -2.,   7.,  -1.,  -5.,   3.,   5.,  -5.,  10.]],\n",
              "        grad_fn=<SqueezeBackward1>),\n",
              " torch.Size([6, 8]))"
            ]
          },
          "execution_count": 47,
          "metadata": {},
          "output_type": "execute_result"
        }
      ],
      "source": [
        "out = conv1d(dummy)\n",
        "out, out.shape"
      ]
    },
    {
      "cell_type": "code",
      "execution_count": null,
      "id": "f50d4c0d",
      "metadata": {
        "id": "f50d4c0d"
      },
      "outputs": [],
      "source": [
        "max_pool_layer = nn.MaxPool1d(3)"
      ]
    },
    {
      "cell_type": "code",
      "execution_count": null,
      "id": "7eb822d7",
      "metadata": {
        "id": "7eb822d7",
        "outputId": "be064571-797f-455b-8f19-6bb7031ca9b3"
      },
      "outputs": [
        {
          "data": {
            "text/plain": [
              "(tensor([[ 7.,  4.],\n",
              "         [ 7.,  1.],\n",
              "         [ 4., -3.],\n",
              "         [-1., -4.],\n",
              "         [-4.,  2.],\n",
              "         [ 7.,  5.]], grad_fn=<SqueezeBackward1>),\n",
              " torch.Size([6, 2]))"
            ]
          },
          "execution_count": 53,
          "metadata": {},
          "output_type": "execute_result"
        }
      ],
      "source": [
        "after_pool = max_pool_layer(out)\n",
        "after_pool, after_pool.shape"
      ]
    },
    {
      "cell_type": "markdown",
      "id": "e4901b54",
      "metadata": {
        "id": "e4901b54"
      },
      "source": [
        "## Batch Norm"
      ]
    },
    {
      "cell_type": "code",
      "execution_count": null,
      "id": "e683abc1",
      "metadata": {
        "id": "e683abc1",
        "outputId": "69f99d6c-b08b-450e-a2d7-701f2bca54b8"
      },
      "outputs": [
        {
          "data": {
            "text/plain": [
              "tensor([[     0.0000,      0.0000,      0.0000,  ...,      0.0000,\n",
              "             -0.0000,     -0.0000],\n",
              "        [     0.0000,      0.0000,      0.0000,  ...,     -0.0000,\n",
              "             -0.0000,     -0.0000],\n",
              "        [     0.0000,      0.0000,      0.0000,  ...,     -0.0000,\n",
              "              0.0000,      0.0000],\n",
              "        ...,\n",
              "        [     0.0000,      0.0000,      0.0000,  ...,      0.0000,\n",
              "              0.0000,      0.0000],\n",
              "        [     0.0000,      0.0000,      0.0000,  ...,     -0.0000,\n",
              "             -0.0000,     -0.0000],\n",
              "        [     0.0000,      0.0000,      0.0000,  ...,     -0.0000,\n",
              "             -0.0000,     -0.0000]])"
            ]
          },
          "execution_count": 187,
          "metadata": {},
          "output_type": "execute_result"
        }
      ],
      "source": [
        "audio"
      ]
    },
    {
      "cell_type": "code",
      "execution_count": null,
      "id": "02a1755f",
      "metadata": {
        "id": "02a1755f"
      },
      "outputs": [],
      "source": [
        "model.train()\n",
        "model.eval()"
      ]
    }
  ],
  "metadata": {
    "kernelspec": {
      "display_name": "Python 3 (ipykernel)",
      "language": "python",
      "name": "python3"
    },
    "language_info": {
      "codemirror_mode": {
        "name": "ipython",
        "version": 3
      },
      "file_extension": ".py",
      "mimetype": "text/x-python",
      "name": "python",
      "nbconvert_exporter": "python",
      "pygments_lexer": "ipython3",
      "version": "3.8.10"
    },
    "colab": {
      "provenance": [],
      "include_colab_link": true
    }
  },
  "nbformat": 4,
  "nbformat_minor": 5
}