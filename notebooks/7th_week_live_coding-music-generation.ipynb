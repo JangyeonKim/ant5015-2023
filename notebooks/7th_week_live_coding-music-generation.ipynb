{
 "cells": [
  {
   "attachments": {},
   "cell_type": "markdown",
   "id": "fd2a97bd",
   "metadata": {},
   "source": [
    "<a href=\"https://colab.research.google.com/github/jdasam/ant5015-2023/blob/main/notebooks/7th_week_live_coding-music-generation.ipynb\" target=\"_parent\"><img src=\"https://colab.research.google.com/assets/colab-badge.svg\" alt=\"Open In Colab\"/></a>"
   ]
  },
  {
   "cell_type": "markdown",
   "id": "7a17b6d4",
   "metadata": {},
   "source": [
    "# Music Generation\n",
    "- Music Generation with MusPy"
   ]
  },
  {
   "cell_type": "code",
   "execution_count": null,
   "id": "ddebf66c",
   "metadata": {},
   "outputs": [],
   "source": [
    "'''\n",
    "install muspy\n",
    "'''\n",
    "!pip install muspy"
   ]
  },
  {
   "cell_type": "code",
   "execution_count": null,
   "id": "def85864",
   "metadata": {},
   "outputs": [],
   "source": [
    "import muspy\n",
    "your_path = '~/userdata/datasets/essen_folk/' # Change it!\n",
    "essen = muspy.EssenFolkSongDatabase(your_path, download_and_extract=True)"
   ]
  },
  {
   "cell_type": "code",
   "execution_count": null,
   "id": "aa430d27",
   "metadata": {},
   "outputs": [],
   "source": [
    "essen.convert()"
   ]
  },
  {
   "cell_type": "markdown",
   "id": "29d52880",
   "metadata": {},
   "source": [
    "- You can visualize score with ``muspy.show_score()``\n",
    "- You can sonify score with ``muspy.synthesize()``\n",
    "\n",
    "- You need to install font and soundfont\n",
    "    - ``muspy.download_bravura_font()``\n",
    "    - ``muspy.download_musescore_soundfont()``"
   ]
  },
  {
   "cell_type": "code",
   "execution_count": null,
   "id": "0777d647",
   "metadata": {},
   "outputs": [],
   "source": [
    "len(essen)"
   ]
  },
  {
   "cell_type": "code",
   "execution_count": null,
   "id": "ddf3d04d",
   "metadata": {},
   "outputs": [],
   "source": [
    "a_piece = essen[0]\n"
   ]
  },
  {
   "cell_type": "code",
   "execution_count": null,
   "id": "10e487ac",
   "metadata": {},
   "outputs": [],
   "source": [
    "type(a_piece)"
   ]
  },
  {
   "cell_type": "code",
   "execution_count": null,
   "id": "e34fba03",
   "metadata": {},
   "outputs": [],
   "source": [
    "import matplotlib.pyplot as plt\n",
    "\n",
    "muspy.show_score(a_piece, figsize=(30,10), font_scale=200, note_spacing=2)"
   ]
  },
  {
   "cell_type": "code",
   "execution_count": null,
   "id": "9b23dc00",
   "metadata": {},
   "outputs": [],
   "source": [
    "audio = a_piece.synthesize()"
   ]
  },
  {
   "cell_type": "markdown",
   "id": "c1e1eba2",
   "metadata": {},
   "source": [
    "- You can convert MusPy dataset to pytorch dataset using\n",
    "    - ``essen.to_pytorch_dataset(representation='note', splits=(0.6, 0.2, 0.2))``\n",
    "    - this also include train/valid/test split\n",
    "   \n"
   ]
  },
  {
   "cell_type": "markdown",
   "id": "1ef0581d",
   "metadata": {},
   "source": [
    "- You can convert representation by using\n",
    "    - ``muspy.to_pitch_representation``\n",
    "    - ``muspy.to_pianoroll_representation``\n",
    "    "
   ]
  },
  {
   "cell_type": "markdown",
   "id": "a684fb72",
   "metadata": {},
   "source": [
    "## Make Data Loader"
   ]
  },
  {
   "cell_type": "code",
   "execution_count": null,
   "id": "17476e80",
   "metadata": {},
   "outputs": [],
   "source": [
    "class MelodyDataset:\n",
    "  def __init__(self, muspy_dataset):\n",
    "    self.dataset = muspy_dataset\n",
    "    self.dataset = [x.to_note_representation() for x in self.dataset]\n",
    "    \n",
    "    self.idx2pitch, self.idx2dur = self._get_vocab_info()\n",
    "    \n",
    "    self.pitch2idx = {x:i for i, x in enumerate(self.idx2pitch)}\n",
    "    self.dur2idx = {x:i for i, x in enumerate(self.idx2dur)}\n",
    "    \n",
    "  def _get_vocab_info(self):\n",
    "    entire_pitch = []\n",
    "    entire_dur = []\n",
    "    for note_rep in self.dataset:\n",
    "      pitch_in_piece = note_rep[:, 1]\n",
    "      dur_in_piece = note_rep[:, 2]\n",
    "      \n",
    "      entire_pitch += pitch_in_piece.tolist()\n",
    "      entire_dur += dur_in_piece.tolist()\n",
    "    return list(set(entire_pitch)), list(set(entire_dur))\n",
    "    \n",
    "  def __len__(self):\n",
    "    return len(self.dataset)\n",
    "  \n",
    "  def __getitem__(self, idx):\n",
    "    note_representation = self.dataset[idx]\n",
    "#     note_representation = piece.to_note_representation()\n",
    "    note_representation = note_representation[:,1:3].tolist()\n",
    "    \n",
    "    pitch = [self.pitch2idx[pitch_dur[0]] for pitch_dur in note_representation]\n",
    "    dur = [self.dur2idx[pitch_dur[1]] for pitch_dur in note_representation]\n",
    "    \n",
    "    out_tensor = torch.LongTensor([pitch, dur]).T\n",
    "    \n",
    "    return out_tensor\n",
    "    \n",
    "train_set = MelodyDataset(essen)\n"
   ]
  },
  {
   "cell_type": "markdown",
   "id": "feec6de2",
   "metadata": {},
   "source": [
    "## Define Model"
   ]
  },
  {
   "cell_type": "markdown",
   "id": "cf9bb415",
   "metadata": {},
   "source": [
    "## Make Train Loop"
   ]
  },
  {
   "cell_type": "code",
   "execution_count": null,
   "id": "5c29cf26",
   "metadata": {},
   "outputs": [],
   "source": []
  },
  {
   "cell_type": "markdown",
   "id": "53a239d7",
   "metadata": {},
   "source": [
    "## Make Inference\n",
    "- "
   ]
  },
  {
   "cell_type": "code",
   "execution_count": null,
   "id": "82bf052d",
   "metadata": {},
   "outputs": [],
   "source": []
  },
  {
   "cell_type": "code",
   "execution_count": null,
   "id": "494e4b6a",
   "metadata": {},
   "outputs": [],
   "source": []
  }
 ],
 "metadata": {
  "kernelspec": {
   "display_name": "Python 3 (ipykernel)",
   "language": "python",
   "name": "python3"
  },
  "language_info": {
   "codemirror_mode": {
    "name": "ipython",
    "version": 3
   },
   "file_extension": ".py",
   "mimetype": "text/x-python",
   "name": "python",
   "nbconvert_exporter": "python",
   "pygments_lexer": "ipython3",
   "version": "3.8.10"
  }
 },
 "nbformat": 4,
 "nbformat_minor": 5
}
