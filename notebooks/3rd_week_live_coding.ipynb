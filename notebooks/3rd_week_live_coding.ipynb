{
  "cells": [
    {
      "cell_type": "markdown",
      "metadata": {
        "id": "view-in-github",
        "colab_type": "text"
      },
      "source": [
        "<a href=\"https://colab.research.google.com/github/jdasam/ant5015-2023/blob/main/notebooks/3rd_week_live_coding.ipynb\" target=\"_parent\"><img src=\"https://colab.research.google.com/assets/colab-badge.svg\" alt=\"Open In Colab\"/></a>"
      ]
    },
    {
      "cell_type": "markdown",
      "metadata": {
        "id": "RbswnvsCZwsH"
      },
      "source": [
        "# Music Genre Classification"
      ]
    },
    {
      "cell_type": "code",
      "execution_count": null,
      "metadata": {
        "id": "9q56lppGZwsH",
        "outputId": "a239c13b-5647-441a-d154-2f351b35e7f0"
      },
      "outputs": [
        {
          "name": "stdout",
          "output_type": "stream",
          "text": [
            "Downloading...\n",
            "From: https://drive.google.com/uc?id=1-4elQY1C-n23u3QqomnLiI9CN9iPrWC3\n",
            "To: /home/teo/userdata/git_libraries/ant5015-2023/notebooks/genres.tar.gz\n",
            "100%|██████████████████████████████████████| 1.23G/1.23G [02:31<00:00, 8.09MB/s]\n"
          ]
        }
      ],
      "source": [
        "!gdown 1-4elQY1C-n23u3QqomnLiI9CN9iPrWC3"
      ]
    },
    {
      "cell_type": "code",
      "execution_count": null,
      "metadata": {
        "id": "aUJFfJDsZwsI"
      },
      "outputs": [],
      "source": [
        "!tar -xzf genres.tar.gz"
      ]
    }
  ],
  "metadata": {
    "kernelspec": {
      "display_name": "Python 3",
      "language": "python",
      "name": "python3"
    },
    "language_info": {
      "codemirror_mode": {
        "name": "ipython",
        "version": 3
      },
      "file_extension": ".py",
      "mimetype": "text/x-python",
      "name": "python",
      "nbconvert_exporter": "python",
      "pygments_lexer": "ipython3",
      "version": "3.8.10"
    },
    "orig_nbformat": 4,
    "colab": {
      "provenance": [],
      "include_colab_link": true
    }
  },
  "nbformat": 4,
  "nbformat_minor": 0
}