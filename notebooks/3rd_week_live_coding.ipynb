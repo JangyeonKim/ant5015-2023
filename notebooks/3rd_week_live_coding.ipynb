{
  "cells": [
    {
      "cell_type": "markdown",
      "metadata": {
        "id": "RbswnvsCZwsH"
      },
      "source": [
        "# Music Genre Classification"
      ]
    },
    {
      "cell_type": "code",
      "execution_count": 2,
      "metadata": {
        "colab": {
          "base_uri": "https://localhost:8080/"
        },
        "id": "9q56lppGZwsH",
        "outputId": "1af65947-61b1-4106-b068-c3d37ffd77f6"
      },
      "outputs": [
        {
          "output_type": "stream",
          "name": "stdout",
          "text": [
            "Looking in indexes: https://pypi.org/simple, https://us-python.pkg.dev/colab-wheels/public/simple/\n",
            "Requirement already satisfied: gdown in /usr/local/lib/python3.9/dist-packages (4.6.4)\n",
            "Requirement already satisfied: six in /usr/local/lib/python3.9/dist-packages (from gdown) (1.15.0)\n",
            "Requirement already satisfied: filelock in /usr/local/lib/python3.9/dist-packages (from gdown) (3.10.0)\n",
            "Requirement already satisfied: beautifulsoup4 in /usr/local/lib/python3.9/dist-packages (from gdown) (4.11.2)\n",
            "Requirement already satisfied: tqdm in /usr/local/lib/python3.9/dist-packages (from gdown) (4.65.0)\n",
            "Requirement already satisfied: requests[socks] in /usr/local/lib/python3.9/dist-packages (from gdown) (2.27.1)\n",
            "Requirement already satisfied: soupsieve>1.2 in /usr/local/lib/python3.9/dist-packages (from beautifulsoup4->gdown) (2.4)\n",
            "Requirement already satisfied: idna<4,>=2.5 in /usr/local/lib/python3.9/dist-packages (from requests[socks]->gdown) (3.4)\n",
            "Requirement already satisfied: charset-normalizer~=2.0.0 in /usr/local/lib/python3.9/dist-packages (from requests[socks]->gdown) (2.0.12)\n",
            "Requirement already satisfied: certifi>=2017.4.17 in /usr/local/lib/python3.9/dist-packages (from requests[socks]->gdown) (2022.12.7)\n",
            "Requirement already satisfied: urllib3<1.27,>=1.21.1 in /usr/local/lib/python3.9/dist-packages (from requests[socks]->gdown) (1.26.15)\n",
            "Requirement already satisfied: PySocks!=1.5.7,>=1.5.6 in /usr/local/lib/python3.9/dist-packages (from requests[socks]->gdown) (1.7.1)\n",
            "Downloading...\n",
            "From: https://drive.google.com/uc?id=1-4elQY1C-n23u3QqomnLiI9CN9iPrWC3\n",
            "To: /content/genres.tar.gz\n",
            "100% 1.23G/1.23G [00:23<00:00, 52.2MB/s]\n"
          ]
        }
      ],
      "source": [
        "!pip install --upgrade gdown\n",
        "!gdown 1-4elQY1C-n23u3QqomnLiI9CN9iPrWC3"
      ]
    },
    {
      "cell_type": "code",
      "execution_count": 3,
      "metadata": {
        "id": "aUJFfJDsZwsI"
      },
      "outputs": [],
      "source": [
        "!tar -xzf genres.tar.gz"
      ]
    },
    {
      "cell_type": "code",
      "source": [
        "from pathlib import Path\n",
        "\n",
        "data_dir = Path('genres/')\n",
        "wav_fns = list(data_dir.rglob('*.wav'))\n",
        "wav_fns.sort()\n",
        "wav_fns"
      ],
      "metadata": {
        "id": "TwUk5RlGani6"
      },
      "execution_count": null,
      "outputs": []
    },
    {
      "cell_type": "code",
      "source": [
        "# generator와 list 차이\n",
        "# wav_gen = data_dir.rglob('*.wav')\n",
        "for wav in wav_gen:\n",
        "  print(wav)"
      ],
      "metadata": {
        "id": "3cG5RoSSbtEE"
      },
      "execution_count": 14,
      "outputs": []
    },
    {
      "cell_type": "code",
      "source": [
        "wav_fns[:10]"
      ],
      "metadata": {
        "id": "WXQQ8RUhcGtR",
        "outputId": "7529ea36-6f31-4f34-f9c8-df562a2b8df5",
        "colab": {
          "base_uri": "https://localhost:8080/"
        }
      },
      "execution_count": 15,
      "outputs": [
        {
          "output_type": "execute_result",
          "data": {
            "text/plain": [
              "[PosixPath('genres/blues/blues.00000.wav'),\n",
              " PosixPath('genres/blues/blues.00001.wav'),\n",
              " PosixPath('genres/blues/blues.00002.wav'),\n",
              " PosixPath('genres/blues/blues.00003.wav'),\n",
              " PosixPath('genres/blues/blues.00004.wav'),\n",
              " PosixPath('genres/blues/blues.00005.wav'),\n",
              " PosixPath('genres/blues/blues.00006.wav'),\n",
              " PosixPath('genres/blues/blues.00007.wav'),\n",
              " PosixPath('genres/blues/blues.00008.wav'),\n",
              " PosixPath('genres/blues/blues.00009.wav')]"
            ]
          },
          "metadata": {},
          "execution_count": 15
        }
      ]
    },
    {
      "cell_type": "markdown",
      "source": [
        "# read audio"
      ],
      "metadata": {
        "id": "EgbriLyFcKHs"
      }
    },
    {
      "cell_type": "code",
      "source": [
        "import torchaudio\n",
        "import IPython.display as ipd\n",
        "\n",
        "wav_fn = wav_fns[0]\n",
        "y, sr = torchaudio.load(wav_fn)"
      ],
      "metadata": {
        "id": "mWioR1QOb5Ts"
      },
      "execution_count": 16,
      "outputs": []
    },
    {
      "cell_type": "code",
      "source": [
        "sr, y.shape, y.shape[1] / sr"
      ],
      "metadata": {
        "id": "vhZx_wACcW3O",
        "outputId": "ba389d4b-0383-4dd0-dffe-b6b5258c407b",
        "colab": {
          "base_uri": "https://localhost:8080/"
        }
      },
      "execution_count": 19,
      "outputs": [
        {
          "output_type": "execute_result",
          "data": {
            "text/plain": [
              "(22050, torch.Size([1, 661794]), 30.013333333333332)"
            ]
          },
          "metadata": {},
          "execution_count": 19
        }
      ]
    },
    {
      "cell_type": "code",
      "source": [
        "sr\n",
        "y.shape"
      ],
      "metadata": {
        "id": "0EwnoIQvdLWG",
        "outputId": "0b8676c1-836b-41de-884c-8c05bd0f92a1",
        "colab": {
          "base_uri": "https://localhost:8080/"
        }
      },
      "execution_count": 23,
      "outputs": [
        {
          "output_type": "execute_result",
          "data": {
            "text/plain": [
              "torch.Size([1, 661794])"
            ]
          },
          "metadata": {},
          "execution_count": 23
        }
      ]
    },
    {
      "cell_type": "code",
      "source": [
        "ipd.display(ipd.Audio(y, rate=sr))\n",
        "ipd.display(ipd.Audio(wav_fns[1]))"
      ],
      "metadata": {
        "id": "wwGt_xR-c6uZ"
      },
      "execution_count": null,
      "outputs": []
    },
    {
      "cell_type": "code",
      "source": [
        "# CD 1장 ~= 700 MB, 70분/ 16bit 44.1kHz\n"
      ],
      "metadata": {
        "id": "9HyHTS1meFQA"
      },
      "execution_count": null,
      "outputs": []
    }
  ],
  "metadata": {
    "kernelspec": {
      "display_name": "Python 3",
      "language": "python",
      "name": "python3"
    },
    "language_info": {
      "codemirror_mode": {
        "name": "ipython",
        "version": 3
      },
      "file_extension": ".py",
      "mimetype": "text/x-python",
      "name": "python",
      "nbconvert_exporter": "python",
      "pygments_lexer": "ipython3",
      "version": "3.8.10"
    },
    "orig_nbformat": 4,
    "colab": {
      "provenance": []
    },
    "accelerator": "GPU",
    "gpuClass": "standard"
  },
  "nbformat": 4,
  "nbformat_minor": 0
}